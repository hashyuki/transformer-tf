{
 "cells": [
  {
   "cell_type": "code",
   "execution_count": 1,
   "metadata": {},
   "outputs": [],
   "source": [
    "import re\n",
    "from tokenizer.byte_pair_encoder import BytePairEncoder\n",
    "from tokenizer.unigram import Unigram"
   ]
  },
  {
   "cell_type": "code",
   "execution_count": 11,
   "metadata": {},
   "outputs": [],
   "source": [
    "def load_text():\n",
    "    with open('../data/good_taste.txt', 'r') as file:\n",
    "        text = file.read()\n",
    "        text = text.replace('\\n', ' ')\n",
    "    return text"
   ]
  },
  {
   "cell_type": "code",
   "execution_count": 13,
   "metadata": {},
   "outputs": [
    {
     "name": "stderr",
     "output_type": "stream",
     "text": [
      "100%|██████████| 500/500 [00:01<00:00, 358.15it/s]\n"
     ]
    },
    {
     "name": "stdout",
     "output_type": "stream",
     "text": [
      "--- Round 1. Vocab size: 548 ---\n",
      "EM iter 0: Loss=140329.27\n",
      "EM iter 1: Loss=141756.10\n",
      "EM iter 2: Loss=141841.31\n",
      "EM iter 3: Loss=141756.27\n",
      "EM iter 4: Loss=141756.27\n",
      "--- Round 2. Vocab size: 439 ---\n",
      "EM iter 0: Loss=141140.70\n",
      "EM iter 1: Loss=142357.91\n",
      "EM iter 2: Loss=142463.08\n",
      "EM iter 3: Loss=142358.02\n",
      "EM iter 4: Loss=142358.02\n",
      "--- Round 3. Vocab size: 352 ---\n",
      "EM iter 0: Loss=140101.63\n",
      "EM iter 1: Loss=141180.69\n",
      "EM iter 2: Loss=141180.69\n",
      "--- Round 4. Vocab size: 282 ---\n",
      "EM iter 0: Loss=139912.74\n",
      "EM iter 1: Loss=140523.03\n",
      "EM iter 2: Loss=140523.03\n",
      "--- Round 5. Vocab size: 226 ---\n",
      "EM iter 0: Loss=140758.75\n",
      "EM iter 1: Loss=141345.53\n",
      "EM iter 2: Loss=141345.53\n"
     ]
    }
   ],
   "source": [
    "bpe = BytePairEncoder()\n",
    "uni = Unigram()\n",
    "text = load_text()\n",
    "\n",
    "num_merges = 500\n",
    "\n",
    "bpe.train(text, num_merges)\n",
    "\n",
    "tokens = bpe.tokens\n",
    "tokens[' '] = tokens.pop('_')\n",
    "\n",
    "characters = bpe.characters\n",
    "characters.discard(' ')\n",
    "characters.add('_')\n",
    "\n",
    "uni.train(text=text, tokens=tokens, characters=characters, vocab_size=100)"
   ]
  },
  {
   "cell_type": "code",
   "execution_count": 16,
   "metadata": {},
   "outputs": [
    {
     "name": "stdout",
     "output_type": "stream",
     "text": [
      "subword=['at', 't', 'ent', 'ion', '_is', '_all', '_you', '_n', 'e', 'ed', '.']\n",
      "attention is all you need.\n"
     ]
    }
   ],
   "source": [
    "subword = bpe.tokenize('Hello world.')\n",
    "print(f\"{subword=}\")\n",
    "string = ''.join(subword).replace('_', ' ')\n",
    "print(f\"{string}\")"
   ]
  },
  {
   "cell_type": "code",
   "execution_count": 17,
   "metadata": {},
   "outputs": [
    {
     "name": "stdout",
     "output_type": "stream",
     "text": [
      "subword=['at', 't', 'ent', 'ion', '_is', '_all', '_you', '_ne', 'ed', '.']\n",
      "attention is all you need.\n"
     ]
    }
   ],
   "source": [
    "subword = uni.tokenize('Hello world.')\n",
    "print(f\"{subword=}\")\n",
    "string = ''.join(subword).replace('_', ' ')\n",
    "print(f\"{string}\")"
   ]
  },
  {
   "cell_type": "code",
   "execution_count": null,
   "metadata": {},
   "outputs": [],
   "source": []
  }
 ],
 "metadata": {
  "kernelspec": {
   "display_name": ".venv",
   "language": "python",
   "name": "python3"
  },
  "language_info": {
   "codemirror_mode": {
    "name": "ipython",
    "version": 3
   },
   "file_extension": ".py",
   "mimetype": "text/x-python",
   "name": "python",
   "nbconvert_exporter": "python",
   "pygments_lexer": "ipython3",
   "version": "3.10.14"
  }
 },
 "nbformat": 4,
 "nbformat_minor": 2
}
